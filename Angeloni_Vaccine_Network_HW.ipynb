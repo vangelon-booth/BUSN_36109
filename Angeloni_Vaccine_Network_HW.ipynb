{
  "cells": [
    {
      "cell_type": "markdown",
      "metadata": {
        "id": "4oXgd5wLyp5d"
      },
      "source": [
        "# Homework: Vaccine Distribution Network\n",
        "\n",
        "###  Bus 36109 \"Advanced Decision Modeling with Python\", Don Eisenstein\n",
        "Don Eisenstein &copy; Copyright 2021, University of Chicago\n",
        "\n",
        "A vaccine is being produced at different manufacturing Plants to be distributed across the United States to various Hospitals. Each Plant first ships its vaccines to one or more Warehouses.  The Warehouses then ship the vaccines to the Hospitals.\n",
        "\n",
        "Our task is to determine the quantities each Plant should ship to each Warehouse, and then the quantities each Warehouse should ship to each Hospital each week.  \n",
        "\n",
        "There are 6 manufacturing plants, each with a limited weekly capacity (in cases) of vaccine doses. The location of each facility is represented as `(x, y)` map coordinates.\n",
        "\n",
        "| Facility | Location   | Capacity |\n",
        "| :---     |   :----:  |  ---: |\n",
        "| Plant 1  | (123, 210) | 200    |\n",
        "| Plant 2  | (40, 71)   | 50    |\n",
        "| Plant 3  | (21, 185)  | 150    |\n",
        "| Plant 4  | (129, 57)  | 40    |\n",
        "| Plant 5  | (300, 12)  | 100    |\n",
        "| Plant 6  | (281, 190) | 100    |\n",
        "\n",
        "There are 3 warehouses. A plant must transport its vaccines to a warehouse first. Vaccines then travel from warehouses to hospitals.\n",
        "\n",
        "Each Warehouse has a Capacity to move vaccine through its warehouse each week.  Capacity is in units of vaccine cases per week.  Each warehouse charges a processing cost per case of vaccine that flows through its facility.  Each warehouse must ship out weekly the same quantity of vaccines it receives, that is, we do not store or hold vaccine in a warehouse from one week to the next.\n",
        "\n",
        "| Facility | Location   | Capacity | Unit Cost per Case\n",
        "| :---     |   :----:  |  ---: | --: |\n",
        "| Warehouse 1  | (52, 78) | 500    | 20 |\n",
        "| Warehouse 2  | (200, 17)   | 250    | 25 |\n",
        "| Warehouse 3  | (124, 49)  | 750    | 30 |\n",
        "\n",
        "\n",
        "There are ten regional hospital networks in urgent need of vaccines. Their weekly quantities needed (in cases) and `(x, y)` map coordinates are shown below.\n",
        "\n",
        "| Facility | Location   | Demand |\n",
        "| :---     |   :----:  |  ---: |\n",
        "| Hospital 1  | (41, 21) | 50    |\n",
        "| Hospital 2  | (129, 44)   | 75    |\n",
        "| Hospital 3  | (61, 210)  | 121    |\n",
        "| Hospital 4  | (78, 47)  | 231    |\n",
        "| Hospital 5  | (12, 90)  | 147    |\n",
        "| Hospital 6  | (70, 250) | 190    |\n",
        "| Hospital 7  | (63, 194)   | 100    |\n",
        "| Hospital 8  | (199, 28)  | 151    |\n",
        "| Hospital 9  | (351, 7)  | 49    |\n",
        "| Hospital 10  | (222, 163)  | 172    |\n",
        "\n",
        "\n",
        "Assumption:  You can assume, as this data indicates, that the total Plant capacity is no greater than the Hospital demand.\n",
        "\n",
        "We estimate our cost of transportation by considering the *Rectilinear* distance between each Plant and Warehouse, and between each Warehouse and Hospital.  Rectilinear travel restricts movement along the horizontal (x) and vertical (y) axes. It is commonly used to approximate travel along a road grid.\n",
        "\n",
        "The transportation cost is $1 per vaccine case traveling one unit of our map distance. The rectilinear distance between two points `(x_1, y_1)` and `(x_2, y_2)` is `abs(x_2 - x_1) + abs(y_2 - y_1)`.   The Python `abs` function returns the absolute value of a number.\n",
        "\n",
        "For example, the distance between `(0, 0)` and `(1, 1)` is `abs(1 - 0) + abs(1 - 0) = 2`, and transporting `100` vaccine cases would therefore cost `100 cases * 2 distance units * $1/(case-distance) = $200`.\n",
        "\n",
        "Each manufacturing plant and warehouse seeks to send as many cases as possible in order to meet hospital demand. Because vaccines are extremely valuable, hospitals should not receive any additional cases exceeding their immediate requirements.  Each manufacturing plant can ship vaccines to multiple warehouses, and each warehouse can send vaccine to multiple hospitals. And each hospital can receive vaccines from multiple warehouses. The number of vaccine cases sent and received should be modeled as a Continuous variable ... that is, one can ship a fraction of a case (This is to keep our model quick to solve, not to capture any realities of a transportation network).\n",
        "\n",
        "Our model will answer the following question:\n",
        "\n",
        "**What is the optimal allocation of vaccine cases that best meets hospital needs while minimizing total transportation and warehousing costs? In other words, how many cases of vaccines should each manufacturing plant send to each warehouse, and each warehouse to each hospital?**\n",
        "\n",
        "**NOTE:  Make all your flow variables Continuous.  That is, it is fine to ship a fraction of a case of vaccine.**\n",
        "\n",
        "Follow the notebook to walk you through the solution in parts.  Insert your answer to each part into the notebook below the question for each part."
      ]
    },
    {
      "cell_type": "markdown",
      "metadata": {
        "id": "0q_Ismm6yp5f"
      },
      "source": [
        "# Your Solution\n",
        "\n",
        "Insert your answer to each part into this notebook"
      ]
    },
    {
      "cell_type": "code",
      "source": [
        "#! pip install pulp"
      ],
      "metadata": {
        "id": "9SKyw3fJ2BDE"
      },
      "execution_count": 1,
      "outputs": []
    },
    {
      "cell_type": "code",
      "source": [
        "import pulp"
      ],
      "metadata": {
        "id": "OMzGCJJ92EJ_"
      },
      "execution_count": 2,
      "outputs": []
    },
    {
      "cell_type": "markdown",
      "metadata": {
        "id": "nyV7fvG4yp5g"
      },
      "source": [
        "**1. In broad terms, what are the variables, objective and constraints of this problem? You don't need to list the entire formulation. Just describe the structure/characteristics of your model.**"
      ]
    },
    {
      "cell_type": "markdown",
      "source": [
        "Variables:\n",
        "There are several variables including:\n",
        "\n",
        "*   amount from plant to warehouse\n",
        "*   amount from warehouse to hospital\n",
        "*   demand of vaccines from hospital\n",
        "*   unit cost and transportation cost\n",
        "\n",
        "\n",
        "\n",
        "Constraints:\n",
        "\n",
        "\n",
        "*   Capacity of Each Plant\n",
        "*   Capacity of Each Warehouse\n",
        "*  Vaccines must flow from plant -> warehouse -> hospital\n",
        "\n"
      ],
      "metadata": {
        "id": "Cf0YBSFUKZ8h"
      }
    },
    {
      "cell_type": "markdown",
      "metadata": {
        "id": "1Co3k40wyp5g"
      },
      "source": [
        "**2.  Create a Python List called `plants` to store the information about the plants.   \n",
        "Each element of the List should be a Dictionary that will have Keys `name`, `capacity`, `x` and `y`.**\n",
        "\n",
        "**Create a List called `hospitals`.  Each element of the List will be a Dictionary with keys `name`, `demand`, `x` and `y`.**\n",
        "\n",
        "**Finally create a List called `warehouses`.  Each element of the List will be a Dictionary with keys `name`, `capacity`, `processing_cost', `x` and `y`.**\n"
      ]
    },
    {
      "cell_type": "code",
      "source": [
        "#PLANTS ---------------------\n",
        "plants = [\n",
        "    {'name': 'plant_1',\n",
        "     'x': 123,\n",
        "     'y': 210,\n",
        "     'capacity': 200\n",
        "    },\n",
        "    {'name': 'plant_2',\n",
        "     'x': 40,\n",
        "     'y': 71,\n",
        "     'capacity': 50\n",
        "    },\n",
        "    {'name': 'plant_3',\n",
        "     'x': 21,\n",
        "     'y': 185,\n",
        "     'capacity': 150\n",
        "    },\n",
        "    {'name': 'plant_4',\n",
        "     'x': 129,\n",
        "     'y': 57,\n",
        "     'capacity': 40\n",
        "    },\n",
        "    {'name': 'plant_5',\n",
        "     'x': 300,\n",
        "     'y': 12,\n",
        "     'capacity': 100\n",
        "    },\n",
        "    {'name': 'plant_6',\n",
        "     'x': 281,\n",
        "     'y': 190,\n",
        "     'capacity': 100\n",
        "    }\n",
        "]\n",
        "\n",
        "#Hospitals -----------------------------\n",
        "hospitals = [\n",
        "    {'name': 'hospital_1',\n",
        "     'x': 41,\n",
        "     'y': 21,\n",
        "     'demand': 50\n",
        "    },\n",
        "    {'name': 'hospital_2',\n",
        "     'x': 129,\n",
        "     'y': 44,\n",
        "     'demand': 75\n",
        "    },\n",
        "    {'name': 'hospital_3',\n",
        "     'x': 61,\n",
        "     'y': 210,\n",
        "     'demand': 121\n",
        "    },\n",
        "    {'name': 'hospital_4',\n",
        "     'x': 78,\n",
        "     'y': 47,\n",
        "     'demand': 231\n",
        "    },\n",
        "    {'name': 'hospital_5',\n",
        "     'x': 12,\n",
        "     'y': 90,\n",
        "     'demand': 147\n",
        "    },\n",
        "    {'name': 'hospital_6',\n",
        "     'x': 70,\n",
        "     'y': 250,\n",
        "     'demand': 190\n",
        "    },\n",
        "    {'name': 'hospital_7',\n",
        "     'x': 63,\n",
        "     'y': 194,\n",
        "     'demand': 100\n",
        "    },\n",
        "    {'name': 'hospital_8',\n",
        "     'x': 199,\n",
        "     'y': 28,\n",
        "     'demand': 151\n",
        "    },\n",
        "    {'name': 'hospital_9',\n",
        "     'x': 351,\n",
        "     'y': 7,\n",
        "     'demand': 49\n",
        "    },\n",
        "    {'name': 'hospital_10',\n",
        "     'x': 222,\n",
        "     'y': 163,\n",
        "     'demand': 172\n",
        "    },\n",
        "]\n",
        "\n",
        "#WAREHOUSES\n",
        "\n",
        "warehouses = [\n",
        "    {'name': 'warehouse_1',\n",
        "     'x': 52,\n",
        "     'y': 78,\n",
        "     'capacity': 500,\n",
        "     'unit_cost': 20\n",
        "    },\n",
        "    {'name': 'warehouse_2',\n",
        "     'x': 200,\n",
        "     'y': 17,\n",
        "     'capacity': 250,\n",
        "     'unit_cost': 25\n",
        "    },\n",
        "    {'name': 'warehouse_3',\n",
        "     'x': 124,\n",
        "     'y': 49,\n",
        "     'capacity': 750,\n",
        "     'unit_cost': 30\n",
        "    },\n",
        "]"
      ],
      "metadata": {
        "id": "_KsKYqeTzUCG"
      },
      "execution_count": 3,
      "outputs": []
    },
    {
      "cell_type": "markdown",
      "metadata": {
        "id": "DhcTBlkXyp5g"
      },
      "source": [
        "**3. Create a PuLP LpProblem object and store it in the variable `model`.**"
      ]
    },
    {
      "cell_type": "code",
      "source": [
        "#MODEL\n",
        "model = pulp.LpProblem('VaccineDistributionWithWarehouse', pulp.LpMinimize)"
      ],
      "metadata": {
        "id": "o7hG65iJ0nST"
      },
      "execution_count": 4,
      "outputs": []
    },
    {
      "cell_type": "markdown",
      "metadata": {
        "id": "r6ZWU29Syp5h"
      },
      "source": [
        "**4. Create a Dictionary `lp_variables` and store in it each PuLP variable.  Each key in the Dictionary should be a Tuple. NOTE: You should have a flow variables only for each Plant-Warehouse combination and for each Warehouse-Hospital combination.  You should NOT have any single variables that contain flow all the way from a Plant through a Warehouse to a Hospital.**"
      ]
    },
    {
      "cell_type": "code",
      "source": [
        "lp_variables_p_w = {}\n",
        "\n",
        "for plant in plants:\n",
        "    for warehouse in warehouses:\n",
        "        # Create a dictionary entry referencing the decision variable for this plant-hospital pair\n",
        "        lp_variables_p_w[(plant['name'], warehouse['name'])] = pulp.LpVariable(f\"{plant['name']}_{warehouse['name']}\", cat='Continuous', lowBound=0)\n",
        "\n",
        "lp_variables_w_h = {}\n",
        "\n",
        "for warehouse in warehouses:\n",
        "    for hospital in hospitals:\n",
        "        # Create a dictionary entry referencing the decision variable for this plant-hospital pair\n",
        "        lp_variables_w_h[(warehouse['name'], hospital['name'])] = pulp.LpVariable(f\"{warehouse['name']}_{hospital['name']}\", cat='Continuous', lowBound=0)"
      ],
      "metadata": {
        "id": "PD-tlM6B7tiq"
      },
      "execution_count": 5,
      "outputs": []
    },
    {
      "cell_type": "code",
      "source": [
        "#MEREG DICTIONARIES INTO ONE\n",
        "lp_variables = lp_variables_p_w | lp_variables_w_h"
      ],
      "metadata": {
        "id": "7OBzP5Y0-5EA"
      },
      "execution_count": 6,
      "outputs": []
    },
    {
      "cell_type": "markdown",
      "metadata": {
        "id": "QSZMumFSyp5h"
      },
      "source": [
        "**5. Add your objective function to your `model`**"
      ]
    },
    {
      "cell_type": "code",
      "source": [
        "P = pulp.LpVariable(\"P\", cat='Continuous', lowBound=0, upBound=1.0)"
      ],
      "metadata": {
        "id": "sL33B1TbBWyE"
      },
      "execution_count": 7,
      "outputs": []
    },
    {
      "cell_type": "code",
      "source": [
        "transportation_cost_objective_plant_to_warehouse = 0\n",
        "\n",
        "for plant in plants:\n",
        "    for warehouse in warehouses:\n",
        "      # Calculate the distance between the hospital and warehouse\n",
        "      distance_cost = abs(plant['x'] - warehouse['x']) + abs(plant['y'] - warehouse['y'])\n",
        "\n",
        "      # Add the distance cost multiplied by the variable value to our cost objective\n",
        "      transportation_cost_objective_plant_to_warehouse += lp_variables[(plant['name'], warehouse['name'])] * distance_cost\n",
        "\n",
        "\n",
        "\n",
        "\n",
        "\n",
        "transportation_cost_objective_warehouse_to_hospital = 0\n",
        "\n",
        "for warehouse in warehouses:\n",
        "    for hospital in hospitals:\n",
        "      # Calculate the distance between the hospital and warehouse\n",
        "      distance_cost = abs(warehouse['x'] - hospital['x']) + abs(warehouse['y'] - hospital['y']) + (warehouse['unit_cost'])\n",
        "\n",
        "      # Add the distance cost multiplied by the variable value to our cost objective\n",
        "      transportation_cost_objective_warehouse_to_hospital += lp_variables[(warehouse['name'], hospital['name'])] * distance_cost\n",
        "\n",
        "\n",
        "\n",
        "#COMBINE CONTRAINTS\n",
        "transportation_objective = (transportation_cost_objective_plant_to_warehouse + transportation_cost_objective_warehouse_to_hospital)\n",
        "\n",
        "# Add the total transportation cost to our model as its minimization objective\n",
        "model += transportation_objective, 'Minimize transportation cost'"
      ],
      "metadata": {
        "id": "rbjnBWoPBcRJ"
      },
      "execution_count": 8,
      "outputs": []
    },
    {
      "cell_type": "markdown",
      "metadata": {
        "id": "ne6rubOPyp5h"
      },
      "source": [
        "**6. Add the constraints to your `model`**"
      ]
    },
    {
      "cell_type": "code",
      "source": [
        "#------------ PLANT CAPACITY ----------------------------\n",
        "for plant in plants:\n",
        "  plant_capacity_const = 0\n",
        "\n",
        "\n",
        "  for warehouse in warehouses:\n",
        "    plant_capacity_const += lp_variables[(plant['name'], warehouse['name'])]\n",
        "  model += plant_capacity_const <= plant['capacity'], f\"{plant['name']}_capacity\""
      ],
      "metadata": {
        "id": "vLqL8xcloJCJ"
      },
      "execution_count": 9,
      "outputs": []
    },
    {
      "cell_type": "code",
      "source": [
        "#--------- WAREHOUSE CAPACITY --------------------------\n",
        "for warehouse in warehouses:\n",
        "  warehouse_capacity_const = 0\n",
        "\n",
        "  for hospital in hospitals:\n",
        "    warehouse_capacity_const += lp_variables[(warehouse['name'], hospital['name'])]\n",
        "  model += warehouse_capacity_const <= warehouse['capacity'], f\"{warehouse['name']}_capacity\""
      ],
      "metadata": {
        "id": "c-haXHbuqy9-"
      },
      "execution_count": 10,
      "outputs": []
    },
    {
      "cell_type": "code",
      "source": [
        "#------ HOSPITAL DEMAND ------------------------------\n",
        "# The cases of vaccine into every hospital cannot exceed its demand\n",
        "for hospital in hospitals:\n",
        "    hospital_demand = 0\n",
        "\n",
        "    for warehouse in warehouses:\n",
        "        hospital_demand += lp_variables[(warehouse['name'], hospital['name'])]\n",
        "\n",
        "\n",
        "    model += hospital_demand <= hospital['demand'], f\"{hospital['name']}_demand\""
      ],
      "metadata": {
        "id": "1AatKi42sldT"
      },
      "execution_count": 11,
      "outputs": []
    },
    {
      "cell_type": "code",
      "source": [
        "# ------ WAREHOUSE FLOW -----------------------\n",
        "for warehouse in warehouses:\n",
        "    vac_in = 0\n",
        "    vac_out = 0\n",
        "    for plant in plants:\n",
        "        vac_in += lp_variables[(plant['name'], warehouse['name'])]\n",
        "    for hospital in hospitals:\n",
        "        vac_out += lp_variables[(warehouse['name'], hospital['name'])]\n",
        "    model += vac_in == vac_out, f\"{warehouse['name']}_balance\""
      ],
      "metadata": {
        "id": "AcgrlYZwvCyL"
      },
      "execution_count": 12,
      "outputs": []
    },
    {
      "cell_type": "code",
      "source": [
        "# ------ TOTAL VACCINE SUPPLY ----------------\n",
        "total_vaccine_supply = 0\n",
        "for plant in plants:\n",
        "    for warehouse in warehouses:\n",
        "        total_vaccine_supply += lp_variables[(plant['name'], warehouse['name'])]\n",
        "\n",
        "model += total_vaccine_supply == 640, \"Total_Vaccine_Supply\""
      ],
      "metadata": {
        "id": "ZcR49qKLu2Vl"
      },
      "execution_count": 13,
      "outputs": []
    },
    {
      "cell_type": "markdown",
      "metadata": {
        "id": "dOQQgbn9yp5i"
      },
      "source": [
        "**7. Display your model with `print(model)`, check that all is OK**"
      ]
    },
    {
      "cell_type": "code",
      "source": [
        "print(model)"
      ],
      "metadata": {
        "colab": {
          "base_uri": "https://localhost:8080/"
        },
        "id": "4S0_OUyjtF3i",
        "outputId": "bf5f67fe-47e6-4297-ff5f-829947d32e82"
      },
      "execution_count": 14,
      "outputs": [
        {
          "output_type": "stream",
          "name": "stdout",
          "text": [
            "VaccineDistributionWithWarehouse:\n",
            "MINIMIZE\n",
            "203*plant_1_warehouse_1 + 270*plant_1_warehouse_2 + 162*plant_1_warehouse_3 + 19*plant_2_warehouse_1 + 214*plant_2_warehouse_2 + 106*plant_2_warehouse_3 + 138*plant_3_warehouse_1 + 347*plant_3_warehouse_2 + 239*plant_3_warehouse_3 + 98*plant_4_warehouse_1 + 111*plant_4_warehouse_2 + 13*plant_4_warehouse_3 + 314*plant_5_warehouse_1 + 105*plant_5_warehouse_2 + 213*plant_5_warehouse_3 + 341*plant_6_warehouse_1 + 254*plant_6_warehouse_2 + 298*plant_6_warehouse_3 + 88*warehouse_1_hospital_1 + 275*warehouse_1_hospital_10 + 131*warehouse_1_hospital_2 + 161*warehouse_1_hospital_3 + 77*warehouse_1_hospital_4 + 72*warehouse_1_hospital_5 + 210*warehouse_1_hospital_6 + 147*warehouse_1_hospital_7 + 217*warehouse_1_hospital_8 + 390*warehouse_1_hospital_9 + 188*warehouse_2_hospital_1 + 193*warehouse_2_hospital_10 + 123*warehouse_2_hospital_2 + 357*warehouse_2_hospital_3 + 177*warehouse_2_hospital_4 + 286*warehouse_2_hospital_5 + 388*warehouse_2_hospital_6 + 339*warehouse_2_hospital_7 + 37*warehouse_2_hospital_8 + 186*warehouse_2_hospital_9 + 141*warehouse_3_hospital_1 + 242*warehouse_3_hospital_10 + 40*warehouse_3_hospital_2 + 254*warehouse_3_hospital_3 + 78*warehouse_3_hospital_4 + 183*warehouse_3_hospital_5 + 285*warehouse_3_hospital_6 + 236*warehouse_3_hospital_7 + 126*warehouse_3_hospital_8 + 299*warehouse_3_hospital_9 + 0\n",
            "SUBJECT TO\n",
            "plant_1_capacity: plant_1_warehouse_1 + plant_1_warehouse_2\n",
            " + plant_1_warehouse_3 <= 200\n",
            "\n",
            "plant_2_capacity: plant_2_warehouse_1 + plant_2_warehouse_2\n",
            " + plant_2_warehouse_3 <= 50\n",
            "\n",
            "plant_3_capacity: plant_3_warehouse_1 + plant_3_warehouse_2\n",
            " + plant_3_warehouse_3 <= 150\n",
            "\n",
            "plant_4_capacity: plant_4_warehouse_1 + plant_4_warehouse_2\n",
            " + plant_4_warehouse_3 <= 40\n",
            "\n",
            "plant_5_capacity: plant_5_warehouse_1 + plant_5_warehouse_2\n",
            " + plant_5_warehouse_3 <= 100\n",
            "\n",
            "plant_6_capacity: plant_6_warehouse_1 + plant_6_warehouse_2\n",
            " + plant_6_warehouse_3 <= 100\n",
            "\n",
            "warehouse_1_capacity: warehouse_1_hospital_1 + warehouse_1_hospital_10\n",
            " + warehouse_1_hospital_2 + warehouse_1_hospital_3 + warehouse_1_hospital_4\n",
            " + warehouse_1_hospital_5 + warehouse_1_hospital_6 + warehouse_1_hospital_7\n",
            " + warehouse_1_hospital_8 + warehouse_1_hospital_9 <= 500\n",
            "\n",
            "warehouse_2_capacity: warehouse_2_hospital_1 + warehouse_2_hospital_10\n",
            " + warehouse_2_hospital_2 + warehouse_2_hospital_3 + warehouse_2_hospital_4\n",
            " + warehouse_2_hospital_5 + warehouse_2_hospital_6 + warehouse_2_hospital_7\n",
            " + warehouse_2_hospital_8 + warehouse_2_hospital_9 <= 250\n",
            "\n",
            "warehouse_3_capacity: warehouse_3_hospital_1 + warehouse_3_hospital_10\n",
            " + warehouse_3_hospital_2 + warehouse_3_hospital_3 + warehouse_3_hospital_4\n",
            " + warehouse_3_hospital_5 + warehouse_3_hospital_6 + warehouse_3_hospital_7\n",
            " + warehouse_3_hospital_8 + warehouse_3_hospital_9 <= 750\n",
            "\n",
            "hospital_1_demand: warehouse_1_hospital_1 + warehouse_2_hospital_1\n",
            " + warehouse_3_hospital_1 <= 50\n",
            "\n",
            "hospital_2_demand: warehouse_1_hospital_2 + warehouse_2_hospital_2\n",
            " + warehouse_3_hospital_2 <= 75\n",
            "\n",
            "hospital_3_demand: warehouse_1_hospital_3 + warehouse_2_hospital_3\n",
            " + warehouse_3_hospital_3 <= 121\n",
            "\n",
            "hospital_4_demand: warehouse_1_hospital_4 + warehouse_2_hospital_4\n",
            " + warehouse_3_hospital_4 <= 231\n",
            "\n",
            "hospital_5_demand: warehouse_1_hospital_5 + warehouse_2_hospital_5\n",
            " + warehouse_3_hospital_5 <= 147\n",
            "\n",
            "hospital_6_demand: warehouse_1_hospital_6 + warehouse_2_hospital_6\n",
            " + warehouse_3_hospital_6 <= 190\n",
            "\n",
            "hospital_7_demand: warehouse_1_hospital_7 + warehouse_2_hospital_7\n",
            " + warehouse_3_hospital_7 <= 100\n",
            "\n",
            "hospital_8_demand: warehouse_1_hospital_8 + warehouse_2_hospital_8\n",
            " + warehouse_3_hospital_8 <= 151\n",
            "\n",
            "hospital_9_demand: warehouse_1_hospital_9 + warehouse_2_hospital_9\n",
            " + warehouse_3_hospital_9 <= 49\n",
            "\n",
            "hospital_10_demand: warehouse_1_hospital_10 + warehouse_2_hospital_10\n",
            " + warehouse_3_hospital_10 <= 172\n",
            "\n",
            "warehouse_1_balance: plant_1_warehouse_1 + plant_2_warehouse_1\n",
            " + plant_3_warehouse_1 + plant_4_warehouse_1 + plant_5_warehouse_1\n",
            " + plant_6_warehouse_1 - warehouse_1_hospital_1 - warehouse_1_hospital_10\n",
            " - warehouse_1_hospital_2 - warehouse_1_hospital_3 - warehouse_1_hospital_4\n",
            " - warehouse_1_hospital_5 - warehouse_1_hospital_6 - warehouse_1_hospital_7\n",
            " - warehouse_1_hospital_8 - warehouse_1_hospital_9 = 0\n",
            "\n",
            "warehouse_2_balance: plant_1_warehouse_2 + plant_2_warehouse_2\n",
            " + plant_3_warehouse_2 + plant_4_warehouse_2 + plant_5_warehouse_2\n",
            " + plant_6_warehouse_2 - warehouse_2_hospital_1 - warehouse_2_hospital_10\n",
            " - warehouse_2_hospital_2 - warehouse_2_hospital_3 - warehouse_2_hospital_4\n",
            " - warehouse_2_hospital_5 - warehouse_2_hospital_6 - warehouse_2_hospital_7\n",
            " - warehouse_2_hospital_8 - warehouse_2_hospital_9 = 0\n",
            "\n",
            "warehouse_3_balance: plant_1_warehouse_3 + plant_2_warehouse_3\n",
            " + plant_3_warehouse_3 + plant_4_warehouse_3 + plant_5_warehouse_3\n",
            " + plant_6_warehouse_3 - warehouse_3_hospital_1 - warehouse_3_hospital_10\n",
            " - warehouse_3_hospital_2 - warehouse_3_hospital_3 - warehouse_3_hospital_4\n",
            " - warehouse_3_hospital_5 - warehouse_3_hospital_6 - warehouse_3_hospital_7\n",
            " - warehouse_3_hospital_8 - warehouse_3_hospital_9 = 0\n",
            "\n",
            "Total_Vaccine_Supply: plant_1_warehouse_1 + plant_1_warehouse_2\n",
            " + plant_1_warehouse_3 + plant_2_warehouse_1 + plant_2_warehouse_2\n",
            " + plant_2_warehouse_3 + plant_3_warehouse_1 + plant_3_warehouse_2\n",
            " + plant_3_warehouse_3 + plant_4_warehouse_1 + plant_4_warehouse_2\n",
            " + plant_4_warehouse_3 + plant_5_warehouse_1 + plant_5_warehouse_2\n",
            " + plant_5_warehouse_3 + plant_6_warehouse_1 + plant_6_warehouse_2\n",
            " + plant_6_warehouse_3 = 640\n",
            "\n",
            "VARIABLES\n",
            "plant_1_warehouse_1 Continuous\n",
            "plant_1_warehouse_2 Continuous\n",
            "plant_1_warehouse_3 Continuous\n",
            "plant_2_warehouse_1 Continuous\n",
            "plant_2_warehouse_2 Continuous\n",
            "plant_2_warehouse_3 Continuous\n",
            "plant_3_warehouse_1 Continuous\n",
            "plant_3_warehouse_2 Continuous\n",
            "plant_3_warehouse_3 Continuous\n",
            "plant_4_warehouse_1 Continuous\n",
            "plant_4_warehouse_2 Continuous\n",
            "plant_4_warehouse_3 Continuous\n",
            "plant_5_warehouse_1 Continuous\n",
            "plant_5_warehouse_2 Continuous\n",
            "plant_5_warehouse_3 Continuous\n",
            "plant_6_warehouse_1 Continuous\n",
            "plant_6_warehouse_2 Continuous\n",
            "plant_6_warehouse_3 Continuous\n",
            "warehouse_1_hospital_1 Continuous\n",
            "warehouse_1_hospital_10 Continuous\n",
            "warehouse_1_hospital_2 Continuous\n",
            "warehouse_1_hospital_3 Continuous\n",
            "warehouse_1_hospital_4 Continuous\n",
            "warehouse_1_hospital_5 Continuous\n",
            "warehouse_1_hospital_6 Continuous\n",
            "warehouse_1_hospital_7 Continuous\n",
            "warehouse_1_hospital_8 Continuous\n",
            "warehouse_1_hospital_9 Continuous\n",
            "warehouse_2_hospital_1 Continuous\n",
            "warehouse_2_hospital_10 Continuous\n",
            "warehouse_2_hospital_2 Continuous\n",
            "warehouse_2_hospital_3 Continuous\n",
            "warehouse_2_hospital_4 Continuous\n",
            "warehouse_2_hospital_5 Continuous\n",
            "warehouse_2_hospital_6 Continuous\n",
            "warehouse_2_hospital_7 Continuous\n",
            "warehouse_2_hospital_8 Continuous\n",
            "warehouse_2_hospital_9 Continuous\n",
            "warehouse_3_hospital_1 Continuous\n",
            "warehouse_3_hospital_10 Continuous\n",
            "warehouse_3_hospital_2 Continuous\n",
            "warehouse_3_hospital_3 Continuous\n",
            "warehouse_3_hospital_4 Continuous\n",
            "warehouse_3_hospital_5 Continuous\n",
            "warehouse_3_hospital_6 Continuous\n",
            "warehouse_3_hospital_7 Continuous\n",
            "warehouse_3_hospital_8 Continuous\n",
            "warehouse_3_hospital_9 Continuous\n",
            "\n"
          ]
        }
      ]
    },
    {
      "cell_type": "markdown",
      "metadata": {
        "id": "BhnlgM7Eyp5i"
      },
      "source": [
        "**8. Solve your optimization model and print its status and the optimal objective function value (the total transportation cost).  NOTE: Your optimal objective function value should be 132966.0**"
      ]
    },
    {
      "cell_type": "code",
      "source": [
        "model.solve()\n",
        "print(\"Status:\", pulp.LpStatus[model.status])\n",
        "if (pulp.LpStatus[model.status] == 'Optimal'):\n",
        "    print(\"Obj function value:\", model.objective.value(), \"\\n\")"
      ],
      "metadata": {
        "colab": {
          "base_uri": "https://localhost:8080/"
        },
        "id": "XYd0br9ky2JV",
        "outputId": "d8dbfeea-0d71-43fa-9513-35ef9dd7e7fb"
      },
      "execution_count": 15,
      "outputs": [
        {
          "output_type": "stream",
          "name": "stdout",
          "text": [
            "Status: Optimal\n",
            "Obj function value: 132966.0 \n",
            "\n"
          ]
        }
      ]
    },
    {
      "cell_type": "markdown",
      "metadata": {
        "id": "5oWFI7onyp5i"
      },
      "source": [
        "**9. Output the value of each of your variables at optimality.**"
      ]
    },
    {
      "cell_type": "code",
      "source": [
        "for v in model.variables():\n",
        "    if v.varValue > 0:\n",
        "        print(v, v.varValue)"
      ],
      "metadata": {
        "colab": {
          "base_uri": "https://localhost:8080/"
        },
        "id": "8Q0modyh_2es",
        "outputId": "43650112-d670-4564-c7c1-23ae2a2df967"
      },
      "execution_count": 16,
      "outputs": [
        {
          "output_type": "stream",
          "name": "stdout",
          "text": [
            "plant_1_warehouse_3 200.0\n",
            "plant_2_warehouse_1 50.0\n",
            "plant_3_warehouse_1 150.0\n",
            "plant_4_warehouse_3 40.0\n",
            "plant_5_warehouse_2 100.0\n",
            "plant_6_warehouse_2 51.0\n",
            "plant_6_warehouse_3 49.0\n",
            "warehouse_1_hospital_1 36.0\n",
            "warehouse_1_hospital_4 17.0\n",
            "warehouse_1_hospital_5 147.0\n",
            "warehouse_2_hospital_8 151.0\n",
            "warehouse_3_hospital_2 75.0\n",
            "warehouse_3_hospital_4 214.0\n"
          ]
        }
      ]
    },
    {
      "cell_type": "markdown",
      "metadata": {
        "id": "x5scBPUfyp5i"
      },
      "source": [
        "**10. Use Python to list each Hospital's Demand, suppy of vaccine, shortfall (amount shy of demand), and percent of demand filled.**"
      ]
    },
    {
      "cell_type": "code",
      "source": [
        "for hospital in hospitals:\n",
        "    name =  hospital['name']\n",
        "    demand = hospital['demand']\n",
        "    constraint_name = f\"{name}_demand\"\n",
        "    slack = model.constraints[constraint_name].slack\n",
        "    print(f\"Hospital {name:<15}    supply: {demand-slack:>8.2f}     demand:{demand:>8.2f}    shorfall:{slack:>8.2f}  percent:{(demand-slack)/demand:>6.2f}\")"
      ],
      "metadata": {
        "colab": {
          "base_uri": "https://localhost:8080/"
        },
        "id": "wOI7Ez2X2dLy",
        "outputId": "fc324b5c-cf6f-43ed-ef79-5361a015b9a2"
      },
      "execution_count": 17,
      "outputs": [
        {
          "output_type": "stream",
          "name": "stdout",
          "text": [
            "Hospital hospital_1         supply:    36.00     demand:   50.00    shorfall:   14.00  percent:  0.72\n",
            "Hospital hospital_2         supply:    75.00     demand:   75.00    shorfall:   -0.00  percent:  1.00\n",
            "Hospital hospital_3         supply:     0.00     demand:  121.00    shorfall:  121.00  percent:  0.00\n",
            "Hospital hospital_4         supply:   231.00     demand:  231.00    shorfall:   -0.00  percent:  1.00\n",
            "Hospital hospital_5         supply:   147.00     demand:  147.00    shorfall:   -0.00  percent:  1.00\n",
            "Hospital hospital_6         supply:     0.00     demand:  190.00    shorfall:  190.00  percent:  0.00\n",
            "Hospital hospital_7         supply:     0.00     demand:  100.00    shorfall:  100.00  percent:  0.00\n",
            "Hospital hospital_8         supply:   151.00     demand:  151.00    shorfall:   -0.00  percent:  1.00\n",
            "Hospital hospital_9         supply:     0.00     demand:   49.00    shorfall:   49.00  percent:  0.00\n",
            "Hospital hospital_10        supply:     0.00     demand:  172.00    shorfall:  172.00  percent:  0.00\n"
          ]
        }
      ]
    },
    {
      "cell_type": "markdown",
      "metadata": {
        "id": "PRjZEpWoyp5i"
      },
      "source": [
        "**11. We now want to understand the impact of our transportation costs as we constrain the\n",
        "percent of demand satisfied for all hospitals.  Reformulate your model to ensure that the percent of demand satisfied\n",
        "to each hospital is at least 20%.  Resolve your model and output the objective function value and hospital supply/demand stats as you did in Part 10.**"
      ]
    },
    {
      "cell_type": "code",
      "source": [
        "#Define MODEL2 for 20% of Hospital demand constraint\n",
        "model2 = pulp.LpProblem('VaccineDistributionWithWarehouse', pulp.LpMinimize)\n",
        "\n",
        "#Add objective function\n",
        "model2 += transportation_objective, 'Minimize transportation cost'\n",
        "\n",
        "#---------------------------------------------------------------------\n",
        "#-------------- CONSTRAINTS ------------------------------------------\n",
        "#---------------------------------------------------------------------\n",
        "\n",
        "#------------ PLANT CAPACITY ----------------------------\n",
        "for plant in plants:\n",
        "  plant_capacity_const = 0\n",
        "\n",
        "\n",
        "  for warehouse in warehouses:\n",
        "    plant_capacity_const += lp_variables[(plant['name'], warehouse['name'])]\n",
        "  model2 += plant_capacity_const <= plant['capacity'], f\"{plant['name']}_capacity\"\n",
        "\n",
        "#--------- WAREHOUSE CAPACITY --------------------------\n",
        "for warehouse in warehouses:\n",
        "  warehouse_capacity_const = 0\n",
        "\n",
        "  for hospital in hospitals:\n",
        "    warehouse_capacity_const += lp_variables[(warehouse['name'], hospital['name'])]\n",
        "  model2 += warehouse_capacity_const <= warehouse['capacity'], f\"{warehouse['name']}_capacity\"\n",
        "\n",
        "#------ HOSPITAL DEMAND ------------------------------\n",
        "# The cases of vaccine into every hospital cannot exceed its demand\n",
        "for hospital in hospitals:\n",
        "    hospital_demand = 0\n",
        "\n",
        "    for warehouse in warehouses:\n",
        "        hospital_demand += lp_variables[(warehouse['name'], hospital['name'])]\n",
        "\n",
        "\n",
        "    model2 += hospital_demand <= hospital['demand'], f\"{hospital['name']}_demand\"\n",
        "\n",
        "# ------ WAREHOUSE FLOW -----------------------\n",
        "for warehouse in warehouses:\n",
        "    vac_in = 0\n",
        "    vac_out = 0\n",
        "    for plant in plants:\n",
        "        vac_in += lp_variables[(plant['name'], warehouse['name'])]\n",
        "    for hospital in hospitals:\n",
        "        vac_out += lp_variables[(warehouse['name'], hospital['name'])]\n",
        "    model2 += vac_in == vac_out, f\"{warehouse['name']}_balance\"\n",
        "\n",
        "# ------ TOTAL VACCINE SUPPLY ----------------\n",
        "total_vaccine_supply = 0\n",
        "for plant in plants:\n",
        "    for warehouse in warehouses:\n",
        "        total_vaccine_supply += lp_variables[(plant['name'], warehouse['name'])]\n",
        "\n",
        "model2 += total_vaccine_supply == 640, \"Total_Vaccine_Supply\""
      ],
      "metadata": {
        "id": "YoicgWumBfvl"
      },
      "execution_count": 18,
      "outputs": []
    },
    {
      "cell_type": "code",
      "source": [
        "# ------ 20% of HOSPITAL DEMAND MUST BE SATISFIED -------\n",
        "\n",
        "for hospital in hospitals:\n",
        "  min_demand = 0\n",
        "  for warehouse in warehouses:\n",
        "    min_demand += lp_variables[(warehouse['name'], hospital['name'])]\n",
        "  model2 += min_demand >= hospital['demand'] * 0.2, f\"{hospital['name']}_min_demand\""
      ],
      "metadata": {
        "id": "-1V0oX1hC0D2"
      },
      "execution_count": 19,
      "outputs": []
    },
    {
      "cell_type": "code",
      "source": [
        "model2.solve()\n",
        "print(\"Status:\", pulp.LpStatus[model.status])\n",
        "if (pulp.LpStatus[model.status] == 'Optimal'):\n",
        "    print(\"Obj function value:\", model.objective.value(), \"\\n\")"
      ],
      "metadata": {
        "colab": {
          "base_uri": "https://localhost:8080/"
        },
        "id": "bipEud9pDU_b",
        "outputId": "293e5a38-2456-4601-c21a-9fc9496ca768"
      },
      "execution_count": 20,
      "outputs": [
        {
          "output_type": "stream",
          "name": "stdout",
          "text": [
            "Status: Optimal\n",
            "Obj function value: 144432.4 \n",
            "\n"
          ]
        }
      ]
    },
    {
      "cell_type": "code",
      "source": [
        "for hospital in hospitals:\n",
        "    name =  hospital['name']\n",
        "    demand = hospital['demand']\n",
        "    constraint_name = f\"{name}_demand\"\n",
        "    slack = model2.constraints[constraint_name].slack\n",
        "    print(f\"Hospital {name:<15}    supply: {demand-slack:>8.2f}     demand:{demand:>8.2f}    shorfall:{slack:>8.2f}  percent:{(demand-slack)/demand:>6.2f}\")"
      ],
      "metadata": {
        "colab": {
          "base_uri": "https://localhost:8080/"
        },
        "id": "p4BzZl8eDXks",
        "outputId": "42b54cdd-4daf-43dd-ef7b-d2a54a958a54"
      },
      "execution_count": 21,
      "outputs": [
        {
          "output_type": "stream",
          "name": "stdout",
          "text": [
            "Hospital hospital_1         supply:    10.00     demand:   50.00    shorfall:   40.00  percent:  0.20\n",
            "Hospital hospital_2         supply:    75.00     demand:   75.00    shorfall:   -0.00  percent:  1.00\n",
            "Hospital hospital_3         supply:    24.20     demand:  121.00    shorfall:   96.80  percent:  0.20\n",
            "Hospital hospital_4         supply:   169.80     demand:  231.00    shorfall:   61.20  percent:  0.74\n",
            "Hospital hospital_5         supply:   107.80     demand:  147.00    shorfall:   39.20  percent:  0.73\n",
            "Hospital hospital_6         supply:    38.00     demand:  190.00    shorfall:  152.00  percent:  0.20\n",
            "Hospital hospital_7         supply:    20.00     demand:  100.00    shorfall:   80.00  percent:  0.20\n",
            "Hospital hospital_8         supply:   151.00     demand:  151.00    shorfall:   -0.00  percent:  1.00\n",
            "Hospital hospital_9         supply:     9.80     demand:   49.00    shorfall:   39.20  percent:  0.20\n",
            "Hospital hospital_10        supply:    34.40     demand:  172.00    shorfall:  137.60  percent:  0.20\n"
          ]
        }
      ]
    },
    {
      "cell_type": "markdown",
      "metadata": {
        "id": "2se0NdJSyp5i"
      },
      "source": [
        "**12. Now form a plot.  Vary P along the x-axis from 0 to 1 in steps of 0.05.\n",
        "Plot the Optimal objective function value for each P along the y-axis.**"
      ]
    },
    {
      "cell_type": "code",
      "source": [
        "# Iterate over P\n",
        "#\n",
        "P_list = []\n",
        "Obj_Value_list = []\n",
        "#\n",
        "num_steps = 20\n",
        "# Set range to include (0, 1, 2, ...,num_steps+1)\n",
        "for step in range(num_steps+1):\n",
        "    P = step/num_steps\n",
        "    P_list.append(P)\n",
        "\n",
        "#  Add P constraints back in\n",
        "    for hospital in hospitals:\n",
        "        const = None\n",
        "        for warehouse in warehouses:\n",
        "        # Add the plant-hospital decision variable to our total hospital received amount\n",
        "            const += lp_variables[(warehouse['name'], hospital['name'])]\n",
        "\n",
        "        # Now that we've looped through all plants for this hospital, we add this constraint to our model\n",
        "            #model2 += const >= P*hospital['demand'], f\"{hospital['name']}_percent\"\n",
        "\n",
        "#     print(model)\n",
        "    model2.solve(pulp.PULP_CBC_CMD(msg=0))\n",
        "    #print(\"Percent:\", P)\n",
        "    #print(\"Status:\", pulp.LpStatus[model2.status])\n",
        "    if (pulp.LpStatus[model2.status] == 'Optimal'):\n",
        "        #print(\"Obj function value:\", model2.objective.value(), \"\\n\")\n",
        "        Obj_Value_list.append(model2.objective.value())\n",
        "    else:\n",
        "        Obj_Value_list.append(None)"
      ],
      "metadata": {
        "id": "7ypAUsSREBW4"
      },
      "execution_count": 22,
      "outputs": []
    },
    {
      "cell_type": "code",
      "source": [
        "import matplotlib.pyplot as plt\n",
        "\n",
        "plt.plot(P_list,Obj_Value_list,\"bo\")\n",
        "plt.ylabel('Objective Value');\n",
        "plt.xlabel('Min Percent of Demand met');\n",
        "plt.show()"
      ],
      "metadata": {
        "colab": {
          "base_uri": "https://localhost:8080/",
          "height": 449
        },
        "id": "c0hDVEOKGYGS",
        "outputId": "a4a54ecb-0cae-47fa-dca0-ad5e675f2fae"
      },
      "execution_count": 23,
      "outputs": [
        {
          "output_type": "display_data",
          "data": {
            "text/plain": [
              "<Figure size 640x480 with 1 Axes>"
            ],
            "image/png": "[encoded data removed]"
          },
          "metadata": {}
        }
      ]
    }
  ],
  "metadata": {
    "kernelspec": {
      "display_name": "Python 3 (ipykernel)",
      "language": "python",
      "name": "python3"
    },
    "language_info": {
      "codemirror_mode": {
        "name": "ipython",
        "version": 3
      },
      "file_extension": ".py",
      "mimetype": "text/x-python",
      "name": "python",
      "nbconvert_exporter": "python",
      "pygments_lexer": "ipython3",
      "version": "3.9.7"
    },
    "colab": {
      "provenance": []
    }
  },
  "nbformat": 4,
  "nbformat_minor": 0
}